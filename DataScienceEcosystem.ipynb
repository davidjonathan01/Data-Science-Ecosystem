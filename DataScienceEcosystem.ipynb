{
  "nbformat": 4,
  "nbformat_minor": 0,
  "metadata": {
    "colab": {
      "provenance": []
    },
    "kernelspec": {
      "name": "python3",
      "display_name": "Python 3"
    },
    "language_info": {
      "name": "python"
    }
  },
  "cells": [
    {
      "cell_type": "markdown",
      "source": [
        "# Data Science Tools and Ecosystem"
      ],
      "metadata": {
        "id": "PswGZ07z1L_b"
      }
    },
    {
      "cell_type": "markdown",
      "source": [
        "In this notebook, the process of creating and sharing a Jupyter Notebook as part of the final assignment is outlined."
      ],
      "metadata": {
        "id": "insbVfJL3b55"
      }
    },
    {
      "cell_type": "markdown",
      "source": [
        "**Objectives:**\n",
        "\n",
        "- In this exercise, you will create a new Jupyter notebook named \"DataScienceEcosystem.ipynb\" and learn how to share it via GitHub. This process is crucial for collaborating on data science projects and maintaining version control.\n",
        "\n",
        "- You will learn how to use markdown cells to add headings, introductions, and lists. This helps structure your notebook, making it easier to read and understand, especially when collaborating with others or documenting your work.\n",
        "\n",
        "- You will evaluate simple arithmetic expressions in Python, such as multiplication, addition, and conversions. This foundational knowledge is essential for data manipulation and calculations when working with real-world datasets.\n",
        "\n",
        "- In this exercise, you will write Python code to convert minutes into hours. This practical task will help you understand how to perform unit conversions and apply basic mathematical operations to manipulate data.\n",
        "\n",
        "- You will learn how to upload and share your completed Jupyter notebook on GitHub. This is an essential skill for working in data science, allowing you to collaborate with others and track changes in your work over time."
      ],
      "metadata": {
        "id": "ZVnevyG3_paE"
      }
    },
    {
      "cell_type": "markdown",
      "source": [
        "**Some of the popular languages that Data Scientists use are:**\n",
        "\n",
        "\n",
        "\n",
        "1.   Python\n",
        "2.   R\n",
        "3.   Julia\n",
        "\n"
      ],
      "metadata": {
        "id": "HYcMcTuZ3qb6"
      }
    },
    {
      "cell_type": "markdown",
      "source": [
        "**Some of the commonly used libraries used by Data Scientists include:**\n",
        "\n",
        "\n",
        "1.   Pandas\n",
        "2.   NumPy\n",
        "3.   Matplotlib\n",
        "4.   TensorFlow\n",
        "\n",
        "\n",
        "\n",
        "\n",
        "\n"
      ],
      "metadata": {
        "id": "1DQIppfS4aJF"
      }
    },
    {
      "cell_type": "markdown",
      "source": [
        "| Data Science Tools |\n",
        "|---------------------|\n",
        "| Jupyter Notebook    |\n",
        "| RStudio             |\n",
        "| Apache Zeppelin     |"
      ],
      "metadata": {
        "id": "beugarxR5o2P"
      }
    },
    {
      "cell_type": "markdown",
      "source": [
        "### Below are a few examples of evaluating arithmetic expressions in Python\n",
        "```python\n",
        "# Addition\n",
        "result_addition = 5 + 3\n",
        "print(result_addition)  # Output: 8\n",
        "\n",
        "# Subtraction\n",
        "result_subtraction = 10 - 4\n",
        "print(result_subtraction)  # Output: 6\n",
        "\n",
        "# Multiplication\n",
        "result_multiplication = 7 * 6\n",
        "print(result_multiplication)  # Output: 42\n",
        "\n",
        "# Division\n",
        "result_division = 9 / 3\n",
        "print(result_division)  # Output: 3.0\n",
        "\n"
      ],
      "metadata": {
        "id": "ZbeuGFLJ50ev"
      }
    },
    {
      "cell_type": "code",
      "source": [
        "# This is a simple arithmetic expression to multiply then add integers\n",
        "result = (3 * 4) + 5\n",
        "print(result)  # Expected output: 17"
      ],
      "metadata": {
        "colab": {
          "base_uri": "https://localhost:8080/"
        },
        "id": "WoGdUGu-9Yqd",
        "outputId": "da3962b9-59e1-4429-afb9-b577b45e9f58"
      },
      "execution_count": 1,
      "outputs": [
        {
          "output_type": "stream",
          "name": "stdout",
          "text": [
            "17\n"
          ]
        }
      ]
    },
    {
      "cell_type": "code",
      "source": [
        "# This will convert 200 minutes to hours by dividing by 60\n",
        "minutes = 200\n",
        "hours = minutes / 60\n",
        "print(hours)  # Expected output: 3.3333"
      ],
      "metadata": {
        "colab": {
          "base_uri": "https://localhost:8080/"
        },
        "id": "j2Muvp2t_A6K",
        "outputId": "4e863ec1-dbc0-4473-c847-174700e2d9d4"
      },
      "execution_count": 2,
      "outputs": [
        {
          "output_type": "stream",
          "name": "stdout",
          "text": [
            "3.3333333333333335\n"
          ]
        }
      ]
    },
    {
      "cell_type": "markdown",
      "source": [
        "## Author\n",
        "David"
      ],
      "metadata": {
        "id": "YjEs1qaHB4Ca"
      }
    }
  ]
}